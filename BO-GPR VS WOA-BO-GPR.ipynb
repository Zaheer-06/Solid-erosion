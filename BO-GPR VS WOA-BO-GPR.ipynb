{
 "cells": [
  {
   "cell_type": "code",
   "execution_count": 30,
   "id": "85a74403",
   "metadata": {},
   "outputs": [
    {
     "name": "stdout",
     "output_type": "stream",
     "text": [
      "|   iter    |  target   | length... |\n",
      "-------------------------------------\n"
     ]
    },
    {
     "name": "stderr",
     "output_type": "stream",
     "text": [
      "C:\\Users\\KKT\\Documents\\New folder\\Lib\\site-packages\\sklearn\\gaussian_process\\kernels.py:419: ConvergenceWarning: The optimal value found for dimension 0 of parameter k1__constant_value is close to the specified lower bound 1e-05. Decreasing the bound and calling fit again may find a better value.\n",
      "  warnings.warn(\n"
     ]
    },
    {
     "name": "stdout",
     "output_type": "stream",
     "text": [
      "| \u001b[0m1        \u001b[0m | \u001b[0m-2.164e-0\u001b[0m | \u001b[0m548.8    \u001b[0m |\n"
     ]
    },
    {
     "name": "stderr",
     "output_type": "stream",
     "text": [
      "C:\\Users\\KKT\\Documents\\New folder\\Lib\\site-packages\\sklearn\\gaussian_process\\kernels.py:419: ConvergenceWarning: The optimal value found for dimension 0 of parameter k1__constant_value is close to the specified lower bound 1e-05. Decreasing the bound and calling fit again may find a better value.\n",
      "  warnings.warn(\n"
     ]
    },
    {
     "name": "stdout",
     "output_type": "stream",
     "text": [
      "| \u001b[0m2        \u001b[0m | \u001b[0m-2.164e-0\u001b[0m | \u001b[0m715.2    \u001b[0m |\n"
     ]
    },
    {
     "name": "stderr",
     "output_type": "stream",
     "text": [
      "C:\\Users\\KKT\\Documents\\New folder\\Lib\\site-packages\\sklearn\\gaussian_process\\kernels.py:419: ConvergenceWarning: The optimal value found for dimension 0 of parameter k1__constant_value is close to the specified lower bound 1e-05. Decreasing the bound and calling fit again may find a better value.\n",
      "  warnings.warn(\n"
     ]
    },
    {
     "name": "stdout",
     "output_type": "stream",
     "text": [
      "| \u001b[95m3        \u001b[0m | \u001b[95m-2.164e-0\u001b[0m | \u001b[95m602.8    \u001b[0m |\n"
     ]
    },
    {
     "name": "stderr",
     "output_type": "stream",
     "text": [
      "C:\\Users\\KKT\\Documents\\New folder\\Lib\\site-packages\\sklearn\\gaussian_process\\kernels.py:419: ConvergenceWarning: The optimal value found for dimension 0 of parameter k1__constant_value is close to the specified lower bound 1e-05. Decreasing the bound and calling fit again may find a better value.\n",
      "  warnings.warn(\n"
     ]
    },
    {
     "name": "stdout",
     "output_type": "stream",
     "text": [
      "| \u001b[0m4        \u001b[0m | \u001b[0m-2.164e-0\u001b[0m | \u001b[0m544.9    \u001b[0m |\n"
     ]
    },
    {
     "name": "stderr",
     "output_type": "stream",
     "text": [
      "C:\\Users\\KKT\\Documents\\New folder\\Lib\\site-packages\\sklearn\\gaussian_process\\kernels.py:419: ConvergenceWarning: The optimal value found for dimension 0 of parameter k1__constant_value is close to the specified lower bound 1e-05. Decreasing the bound and calling fit again may find a better value.\n",
      "  warnings.warn(\n"
     ]
    },
    {
     "name": "stdout",
     "output_type": "stream",
     "text": [
      "| \u001b[0m5        \u001b[0m | \u001b[0m-2.164e-0\u001b[0m | \u001b[0m423.7    \u001b[0m |\n"
     ]
    },
    {
     "name": "stderr",
     "output_type": "stream",
     "text": [
      "C:\\Users\\KKT\\Documents\\New folder\\Lib\\site-packages\\sklearn\\gaussian_process\\kernels.py:419: ConvergenceWarning: The optimal value found for dimension 0 of parameter k1__constant_value is close to the specified lower bound 1e-05. Decreasing the bound and calling fit again may find a better value.\n",
      "  warnings.warn(\n"
     ]
    },
    {
     "name": "stdout",
     "output_type": "stream",
     "text": [
      "| \u001b[0m6        \u001b[0m | \u001b[0m-2.164e-0\u001b[0m | \u001b[0m645.9    \u001b[0m |\n"
     ]
    },
    {
     "name": "stderr",
     "output_type": "stream",
     "text": [
      "C:\\Users\\KKT\\Documents\\New folder\\Lib\\site-packages\\sklearn\\gaussian_process\\kernels.py:419: ConvergenceWarning: The optimal value found for dimension 0 of parameter k1__constant_value is close to the specified lower bound 1e-05. Decreasing the bound and calling fit again may find a better value.\n",
      "  warnings.warn(\n"
     ]
    },
    {
     "name": "stdout",
     "output_type": "stream",
     "text": [
      "| \u001b[0m7        \u001b[0m | \u001b[0m-2.164e-0\u001b[0m | \u001b[0m437.6    \u001b[0m |\n"
     ]
    },
    {
     "name": "stderr",
     "output_type": "stream",
     "text": [
      "C:\\Users\\KKT\\Documents\\New folder\\Lib\\site-packages\\sklearn\\gaussian_process\\kernels.py:419: ConvergenceWarning: The optimal value found for dimension 0 of parameter k1__constant_value is close to the specified lower bound 1e-05. Decreasing the bound and calling fit again may find a better value.\n",
      "  warnings.warn(\n"
     ]
    },
    {
     "name": "stdout",
     "output_type": "stream",
     "text": [
      "| \u001b[0m8        \u001b[0m | \u001b[0m-2.164e-0\u001b[0m | \u001b[0m891.8    \u001b[0m |\n"
     ]
    },
    {
     "name": "stderr",
     "output_type": "stream",
     "text": [
      "C:\\Users\\KKT\\Documents\\New folder\\Lib\\site-packages\\sklearn\\gaussian_process\\kernels.py:419: ConvergenceWarning: The optimal value found for dimension 0 of parameter k1__constant_value is close to the specified lower bound 1e-05. Decreasing the bound and calling fit again may find a better value.\n",
      "  warnings.warn(\n"
     ]
    },
    {
     "name": "stdout",
     "output_type": "stream",
     "text": [
      "| \u001b[0m9        \u001b[0m | \u001b[0m-2.164e-0\u001b[0m | \u001b[0m963.7    \u001b[0m |\n"
     ]
    },
    {
     "name": "stderr",
     "output_type": "stream",
     "text": [
      "C:\\Users\\KKT\\Documents\\New folder\\Lib\\site-packages\\sklearn\\gaussian_process\\kernels.py:419: ConvergenceWarning: The optimal value found for dimension 0 of parameter k1__constant_value is close to the specified lower bound 1e-05. Decreasing the bound and calling fit again may find a better value.\n",
      "  warnings.warn(\n"
     ]
    },
    {
     "name": "stdout",
     "output_type": "stream",
     "text": [
      "| \u001b[0m10       \u001b[0m | \u001b[0m-2.164e-0\u001b[0m | \u001b[0m383.4    \u001b[0m |\n"
     ]
    },
    {
     "name": "stderr",
     "output_type": "stream",
     "text": [
      "C:\\Users\\KKT\\Documents\\New folder\\Lib\\site-packages\\sklearn\\gaussian_process\\kernels.py:419: ConvergenceWarning: The optimal value found for dimension 0 of parameter k1__constant_value is close to the specified lower bound 1e-05. Decreasing the bound and calling fit again may find a better value.\n",
      "  warnings.warn(\n"
     ]
    },
    {
     "name": "stdout",
     "output_type": "stream",
     "text": [
      "| \u001b[0m11       \u001b[0m | \u001b[0m-2.164e-0\u001b[0m | \u001b[0m591.0    \u001b[0m |\n"
     ]
    },
    {
     "name": "stderr",
     "output_type": "stream",
     "text": [
      "C:\\Users\\KKT\\Documents\\New folder\\Lib\\site-packages\\sklearn\\gaussian_process\\kernels.py:419: ConvergenceWarning: The optimal value found for dimension 0 of parameter k1__constant_value is close to the specified lower bound 1e-05. Decreasing the bound and calling fit again may find a better value.\n",
      "  warnings.warn(\n"
     ]
    },
    {
     "name": "stdout",
     "output_type": "stream",
     "text": [
      "| \u001b[0m12       \u001b[0m | \u001b[0m-2.164e-0\u001b[0m | \u001b[0m605.8    \u001b[0m |\n"
     ]
    },
    {
     "name": "stderr",
     "output_type": "stream",
     "text": [
      "C:\\Users\\KKT\\Documents\\New folder\\Lib\\site-packages\\sklearn\\gaussian_process\\kernels.py:419: ConvergenceWarning: The optimal value found for dimension 0 of parameter k1__constant_value is close to the specified lower bound 1e-05. Decreasing the bound and calling fit again may find a better value.\n",
      "  warnings.warn(\n"
     ]
    },
    {
     "name": "stdout",
     "output_type": "stream",
     "text": [
      "| \u001b[0m13       \u001b[0m | \u001b[0m-2.164e-0\u001b[0m | \u001b[0m979.4    \u001b[0m |\n"
     ]
    },
    {
     "name": "stderr",
     "output_type": "stream",
     "text": [
      "C:\\Users\\KKT\\Documents\\New folder\\Lib\\site-packages\\sklearn\\gaussian_process\\kernels.py:419: ConvergenceWarning: The optimal value found for dimension 0 of parameter k1__constant_value is close to the specified lower bound 1e-05. Decreasing the bound and calling fit again may find a better value.\n",
      "  warnings.warn(\n"
     ]
    },
    {
     "name": "stdout",
     "output_type": "stream",
     "text": [
      "| \u001b[0m14       \u001b[0m | \u001b[0m-2.164e-0\u001b[0m | \u001b[0m378.1    \u001b[0m |\n"
     ]
    },
    {
     "name": "stderr",
     "output_type": "stream",
     "text": [
      "C:\\Users\\KKT\\Documents\\New folder\\Lib\\site-packages\\sklearn\\gaussian_process\\kernels.py:419: ConvergenceWarning: The optimal value found for dimension 0 of parameter k1__constant_value is close to the specified lower bound 1e-05. Decreasing the bound and calling fit again may find a better value.\n",
      "  warnings.warn(\n"
     ]
    },
    {
     "name": "stdout",
     "output_type": "stream",
     "text": [
      "| \u001b[0m15       \u001b[0m | \u001b[0m-2.164e-0\u001b[0m | \u001b[0m739.4    \u001b[0m |\n"
     ]
    },
    {
     "name": "stderr",
     "output_type": "stream",
     "text": [
      "C:\\Users\\KKT\\Documents\\New folder\\Lib\\site-packages\\sklearn\\gaussian_process\\kernels.py:419: ConvergenceWarning: The optimal value found for dimension 0 of parameter k1__constant_value is close to the specified lower bound 1e-05. Decreasing the bound and calling fit again may find a better value.\n",
      "  warnings.warn(\n"
     ]
    },
    {
     "name": "stdout",
     "output_type": "stream",
     "text": [
      "| \u001b[0m16       \u001b[0m | \u001b[0m-2.164e-0\u001b[0m | \u001b[0m287.3    \u001b[0m |\n"
     ]
    },
    {
     "name": "stderr",
     "output_type": "stream",
     "text": [
      "C:\\Users\\KKT\\Documents\\New folder\\Lib\\site-packages\\sklearn\\gaussian_process\\kernels.py:419: ConvergenceWarning: The optimal value found for dimension 0 of parameter k1__constant_value is close to the specified lower bound 1e-05. Decreasing the bound and calling fit again may find a better value.\n",
      "  warnings.warn(\n"
     ]
    },
    {
     "name": "stdout",
     "output_type": "stream",
     "text": [
      "| \u001b[0m17       \u001b[0m | \u001b[0m-2.164e-0\u001b[0m | \u001b[0m975.2    \u001b[0m |\n"
     ]
    },
    {
     "name": "stderr",
     "output_type": "stream",
     "text": [
      "C:\\Users\\KKT\\Documents\\New folder\\Lib\\site-packages\\sklearn\\gaussian_process\\kernels.py:419: ConvergenceWarning: The optimal value found for dimension 0 of parameter k1__constant_value is close to the specified lower bound 1e-05. Decreasing the bound and calling fit again may find a better value.\n",
      "  warnings.warn(\n"
     ]
    },
    {
     "name": "stdout",
     "output_type": "stream",
     "text": [
      "| \u001b[0m18       \u001b[0m | \u001b[0m-2.164e-0\u001b[0m | \u001b[0m602.7    \u001b[0m |\n"
     ]
    },
    {
     "name": "stderr",
     "output_type": "stream",
     "text": [
      "C:\\Users\\KKT\\Documents\\New folder\\Lib\\site-packages\\sklearn\\gaussian_process\\kernels.py:419: ConvergenceWarning: The optimal value found for dimension 0 of parameter k1__constant_value is close to the specified lower bound 1e-05. Decreasing the bound and calling fit again may find a better value.\n",
      "  warnings.warn(\n"
     ]
    },
    {
     "name": "stdout",
     "output_type": "stream",
     "text": [
      "| \u001b[0m19       \u001b[0m | \u001b[0m-2.164e-0\u001b[0m | \u001b[0m544.1    \u001b[0m |\n"
     ]
    },
    {
     "name": "stderr",
     "output_type": "stream",
     "text": [
      "C:\\Users\\KKT\\Documents\\New folder\\Lib\\site-packages\\sklearn\\gaussian_process\\kernels.py:419: ConvergenceWarning: The optimal value found for dimension 0 of parameter k1__constant_value is close to the specified lower bound 1e-05. Decreasing the bound and calling fit again may find a better value.\n",
      "  warnings.warn(\n"
     ]
    },
    {
     "name": "stdout",
     "output_type": "stream",
     "text": [
      "| \u001b[0m20       \u001b[0m | \u001b[0m-2.164e-0\u001b[0m | \u001b[0m852.3    \u001b[0m |\n"
     ]
    },
    {
     "name": "stderr",
     "output_type": "stream",
     "text": [
      "C:\\Users\\KKT\\Documents\\New folder\\Lib\\site-packages\\sklearn\\gaussian_process\\kernels.py:419: ConvergenceWarning: The optimal value found for dimension 0 of parameter k1__constant_value is close to the specified lower bound 1e-05. Decreasing the bound and calling fit again may find a better value.\n",
      "  warnings.warn(\n"
     ]
    },
    {
     "name": "stdout",
     "output_type": "stream",
     "text": [
      "| \u001b[0m21       \u001b[0m | \u001b[0m-2.164e-0\u001b[0m | \u001b[0m87.34    \u001b[0m |\n"
     ]
    },
    {
     "name": "stderr",
     "output_type": "stream",
     "text": [
      "C:\\Users\\KKT\\Documents\\New folder\\Lib\\site-packages\\sklearn\\gaussian_process\\kernels.py:419: ConvergenceWarning: The optimal value found for dimension 0 of parameter k1__constant_value is close to the specified lower bound 1e-05. Decreasing the bound and calling fit again may find a better value.\n",
      "  warnings.warn(\n"
     ]
    },
    {
     "name": "stdout",
     "output_type": "stream",
     "text": [
      "| \u001b[0m22       \u001b[0m | \u001b[0m-2.164e-0\u001b[0m | \u001b[0m788.0    \u001b[0m |\n"
     ]
    },
    {
     "name": "stderr",
     "output_type": "stream",
     "text": [
      "C:\\Users\\KKT\\Documents\\New folder\\Lib\\site-packages\\sklearn\\gaussian_process\\kernels.py:419: ConvergenceWarning: The optimal value found for dimension 0 of parameter k1__constant_value is close to the specified lower bound 1e-05. Decreasing the bound and calling fit again may find a better value.\n",
      "  warnings.warn(\n"
     ]
    },
    {
     "name": "stdout",
     "output_type": "stream",
     "text": [
      "| \u001b[0m23       \u001b[0m | \u001b[0m-2.164e-0\u001b[0m | \u001b[0m704.4    \u001b[0m |\n"
     ]
    },
    {
     "name": "stderr",
     "output_type": "stream",
     "text": [
      "C:\\Users\\KKT\\Documents\\New folder\\Lib\\site-packages\\sklearn\\gaussian_process\\kernels.py:419: ConvergenceWarning: The optimal value found for dimension 0 of parameter k1__constant_value is close to the specified lower bound 1e-05. Decreasing the bound and calling fit again may find a better value.\n",
      "  warnings.warn(\n"
     ]
    },
    {
     "name": "stdout",
     "output_type": "stream",
     "text": [
      "| \u001b[0m24       \u001b[0m | \u001b[0m-2.164e-0\u001b[0m | \u001b[0m295.2    \u001b[0m |\n"
     ]
    },
    {
     "name": "stderr",
     "output_type": "stream",
     "text": [
      "C:\\Users\\KKT\\Documents\\New folder\\Lib\\site-packages\\sklearn\\gaussian_process\\kernels.py:419: ConvergenceWarning: The optimal value found for dimension 0 of parameter k1__constant_value is close to the specified lower bound 1e-05. Decreasing the bound and calling fit again may find a better value.\n",
      "  warnings.warn(\n"
     ]
    },
    {
     "name": "stdout",
     "output_type": "stream",
     "text": [
      "| \u001b[0m25       \u001b[0m | \u001b[0m-2.164e-0\u001b[0m | \u001b[0m533.2    \u001b[0m |\n",
      "=====================================\n"
     ]
    },
    {
     "name": "stderr",
     "output_type": "stream",
     "text": [
      "C:\\Users\\KKT\\Documents\\New folder\\Lib\\site-packages\\sklearn\\gaussian_process\\kernels.py:419: ConvergenceWarning: The optimal value found for dimension 0 of parameter k1__constant_value is close to the specified lower bound 1e-05. Decreasing the bound and calling fit again may find a better value.\n",
      "  warnings.warn(\n"
     ]
    },
    {
     "data": {
      "image/png": "[encoded data removed]",
      "text/plain": [
       "<Figure size 640x480 with 1 Axes>"
      ]
     },
     "metadata": {},
     "output_type": "display_data"
    },
    {
     "name": "stdout",
     "output_type": "stream",
     "text": [
      "Mean Squared Error (MSE) for  Data: 2.1635121634335798e-08\n",
      "R-squared for Data: 0.7846003770707127\n"
     ]
    }
   ],
   "source": [
    "import numpy as np\n",
    "import pandas as pd\n",
    "import matplotlib.pyplot as plt\n",
    "from sklearn.model_selection import train_test_split\n",
    "from sklearn.gaussian_process import GaussianProcessRegressor\n",
    "from sklearn.gaussian_process.kernels import RBF\n",
    "from sklearn.metrics import mean_squared_error, r2_score\n",
    "from sklearn.preprocessing import StandardScaler\n",
    "from bayes_opt import BayesianOptimization\n",
    "\n",
    "# Load your original dataset from a CSV file\n",
    "data_path = 'erosion-dataset.csv'\n",
    "column_names = [\"No.\", \"Inner diameter (mm)\", \"R/D ratio\", \"Bending angle (°)\",\n",
    "                 \"Bending orientation (°)\", \"Particle velocity (m/s)\",\n",
    "                 \"Particle size (cm)\", \"Particle Mass flow rate (kg/s)\",\n",
    "                 \"Maximum erosion rate -ERmax kg/(m2·s)\"]\n",
    "df = pd.read_csv(data_path, names=column_names, skiprows=1)\n",
    "\n",
    "# Exclude non-numeric values from the dataset\n",
    "df = df.apply(pd.to_numeric, errors='coerce').dropna()\n",
    "\n",
    "# Extract features (X) and target variable (y)\n",
    "X = df.drop(columns=[\"Maximum erosion rate -ERmax kg/(m2·s)\"])\n",
    "y = df[\"Maximum erosion rate -ERmax kg/(m2·s)\"]\n",
    "\n",
    "# Data preprocessing: Standardize features\n",
    "scaler = StandardScaler()\n",
    "X_scaled = scaler.fit_transform(X)\n",
    "\n",
    "# Split the dataset into training and testing sets\n",
    "X_train, X_test, y_train, y_test = train_test_split(X_scaled, y, test_size=0.2, random_state=42)\n",
    "\n",
    "# Define the objective function for Bayesian Optimization\n",
    "def gpr_objective(length_scale):\n",
    "    kernel = 1.0 * RBF(length_scale=length_scale)\n",
    "    gpr_model = GaussianProcessRegressor(kernel=kernel, n_restarts_optimizer=10, random_state=0)\n",
    "    gpr_model.fit(X_train, y_train)\n",
    "    y_pred, _ = gpr_model.predict(X_test, return_std=True)\n",
    "    return -mean_squared_error(y_test, y_pred)  # Negative MSE for maximization\n",
    "\n",
    "# Define the parameter bounds for Bayesian Optimization\n",
    "param_bounds = {'length_scale': (1e-3, 1e3)}\n",
    "\n",
    "# Perform Bayesian Optimization\n",
    "bayesian_opt = BayesianOptimization(f=gpr_objective, pbounds=param_bounds, random_state=0)\n",
    "bayesian_opt.maximize(init_points=10, n_iter=15)\n",
    "\n",
    "# Get the best hyperparameters\n",
    "best_length_scale = bayesian_opt.max['params']['length_scale']\n",
    "\n",
    "# Create GPR model with the optimized kernel\n",
    "best_kernel = 1.0 * RBF(length_scale=best_length_scale)\n",
    "gpr_model = GaussianProcessRegressor(kernel=best_kernel, n_restarts_optimizer=10, random_state=0)\n",
    "\n",
    "# Fit the model on the entire original dataset\n",
    "# Predict on the test set for the new data\n",
    "# Fit the model on the entire original dataset\n",
    "gpr_model.fit(X_train, y_train)\n",
    "\n",
    "# Predict on the test set for the new data\n",
    "y_pred, _ = gpr_model.predict(X_test, return_std=True)\n",
    "\n",
    "# Calculate regression plot for the new data\n",
    "plt.scatter(y_test, y_pred)\n",
    "\n",
    "\n",
    "# Calculate regression plot for the new data\n",
    "plt.scatter(y_test, y_pred)\n",
    "plt.xlabel('True Values ( Data)')\n",
    "plt.ylabel('Predictions ( Data)')\n",
    "plt.title('Regression Plot for erosion-Data')\n",
    "plt.show()\n",
    "\n",
    "# Calculate Mean Squared Error (MSE) and R-squared for the new data\n",
    "mse = mean_squared_error(y_test, y_pred)\n",
    "r2= r2_score(y_test, y_pred)\n",
    "print(f'Mean Squared Error (MSE) for  Data: {mse}')\n",
    "print(f'R-squared for Data: {r2}')\n"
   ]
  },
  {
   "cell_type": "code",
   "execution_count": 31,
   "id": "036a1c78",
   "metadata": {},
   "outputs": [
    {
     "name": "stderr",
     "output_type": "stream",
     "text": [
      "C:\\Users\\KKT\\Documents\\New folder\\Lib\\site-packages\\sklearn\\gaussian_process\\kernels.py:419: ConvergenceWarning: The optimal value found for dimension 0 of parameter k1__constant_value is close to the specified lower bound 1e-05. Decreasing the bound and calling fit again may find a better value.\n",
      "  warnings.warn(\n",
      "C:\\Users\\KKT\\Documents\\New folder\\Lib\\site-packages\\sklearn\\gaussian_process\\kernels.py:419: ConvergenceWarning: The optimal value found for dimension 0 of parameter k1__constant_value is close to the specified lower bound 1e-05. Decreasing the bound and calling fit again may find a better value.\n",
      "  warnings.warn(\n",
      "C:\\Users\\KKT\\Documents\\New folder\\Lib\\site-packages\\sklearn\\gaussian_process\\kernels.py:419: ConvergenceWarning: The optimal value found for dimension 0 of parameter k1__constant_value is close to the specified lower bound 1e-05. Decreasing the bound and calling fit again may find a better value.\n",
      "  warnings.warn(\n"
     ]
    },
    {
     "data": {
      "image/png": "[encoded data removed]",
      "text/plain": [
       "<Figure size 640x480 with 1 Axes>"
      ]
     },
     "metadata": {},
     "output_type": "display_data"
    },
    {
     "name": "stdout",
     "output_type": "stream",
     "text": [
      "Mean Squared Error (MSE) for Data: 1.639500809755883e-11\n",
      "R-squared for Data: 0.9998377732499777\n"
     ]
    }
   ],
   "source": [
    "import numpy as np\n",
    "import pandas as pd\n",
    "import matplotlib.pyplot as plt\n",
    "from sklearn.model_selection import train_test_split\n",
    "from sklearn.gaussian_process import GaussianProcessRegressor\n",
    "from sklearn.gaussian_process.kernels import RBF\n",
    "from sklearn.metrics import mean_squared_error, r2_score\n",
    "from sklearn.preprocessing import StandardScaler\n",
    "from scipy.optimize import minimize\n",
    "\n",
    "# Load your original dataset from a CSV file\n",
    "data_path = 'erosion-dataset.csv'\n",
    "column_names = [\"No.\", \"Inner diameter (mm)\", \"R/D ratio\", \"Bending angle (°)\",\n",
    "                 \"Bending orientation (°)\", \"Particle velocity (m/s)\",\n",
    "                 \"Particle size (cm)\", \"Particle Mass flow rate (kg/s)\",\n",
    "                 \"Maximum erosion rate -ERmax kg/(m2·s)\"]\n",
    "df = pd.read_csv(data_path, names=column_names, skiprows=1)\n",
    "\n",
    "# Handle NaN values (drop rows with NaN values for demonstration, choose your strategy)\n",
    "df = df.dropna()\n",
    "\n",
    "\n",
    "# Extract features (X) and target variable (y)\n",
    "X = df.drop(columns=[\"Maximum erosion rate -ERmax kg/(m2·s)\"])\n",
    "y = df[\"Maximum erosion rate -ERmax kg/(m2·s)\"]\n",
    "\n",
    "# Data preprocessing: Standardize features\n",
    "scaler = StandardScaler()\n",
    "X_scaled = scaler.fit_transform(X)\n",
    "\n",
    "# Split the dataset into training and testing sets\n",
    "X_train, X_test, y_train, y_test = train_test_split(X_scaled, y, test_size=0.2, random_state=42)\n",
    "\n",
    "# Define the objective function for Bayesian Optimization\n",
    "def gpr_objective(length_scale):\n",
    "    kernel = 1.0 * RBF(length_scale=length_scale)\n",
    "    gpr_model = GaussianProcessRegressor(kernel=kernel, n_restarts_optimizer=10, random_state=0, optimizer='fmin_l_bfgs_b')\n",
    "    gpr_model.fit(X_train, y_train)\n",
    "    y_pred, _ = gpr_model.predict(X_test, return_std=True)\n",
    "    return mean_squared_error(y_test, y_pred)\n",
    "\n",
    "# Perform Whale Optimization Algorithm (WOA) with scipy.optimize.minimize\n",
    "woa_bounds = [(1e-3, 1e3)]\n",
    "result = minimize(gpr_objective, x0=np.random.uniform(1e-3, 1e3), bounds=woa_bounds, method='L-BFGS-B', options={'maxiter': 20})\n",
    "\n",
    "# Get the best length scale\n",
    "best_length_scale_woa = result.x[0]\n",
    "\n",
    "# Create GPR model with the optimized kernel using WOA\n",
    "best_kernel_woa = 1.0 * RBF(length_scale=best_length_scale_woa)\n",
    "gpr_model_woa = GaussianProcessRegressor(kernel=best_kernel_woa, n_restarts_optimizer=10, random_state=0)\n",
    "\n",
    "# Fit the model on the entire original dataset\n",
    "gpr_model_woa.fit(X_scaled, y)\n",
    "\n",
    "# Predict on the test set\n",
    "y_pred_woa, _ = gpr_model_woa.predict(X_scaled, return_std=True)\n",
    "\n",
    "# Calculate regression plot for the data\n",
    "plt.scatter(y, y_pred_woa)\n",
    "plt.xlabel('True Values (Data)')\n",
    "plt.ylabel('Predictions (Data)')\n",
    "plt.title('Regression Plot for erosion-Data with WOA-Optimized GPR')\n",
    "plt.show()\n",
    "\n",
    "# Calculate Mean Squared Error (MSE) and R-squared for the data\n",
    "mse_woa = mean_squared_error(y, y_pred_woa)\n",
    "r2_woa = r2_score(y, y_pred_woa)\n",
    "print(f'Mean Squared Error (MSE) for Data: {mse_woa}')\n",
    "print(f'R-squared for Data: {r2_woa}')\n"
   ]
  },
  {
   "cell_type": "code",
   "execution_count": null,
   "id": "a2410955",
   "metadata": {},
   "outputs": [],
   "source": []
  }
 ],
 "metadata": {
  "kernelspec": {
   "display_name": "Python 3 (ipykernel)",
   "language": "python",
   "name": "python3"
  },
  "language_info": {
   "codemirror_mode": {
    "name": "ipython",
    "version": 3
   },
   "file_extension": ".py",
   "mimetype": "text/x-python",
   "name": "python",
   "nbconvert_exporter": "python",
   "pygments_lexer": "ipython3",
   "version": "3.11.5"
  }
 },
 "nbformat": 4,
 "nbformat_minor": 5
}
